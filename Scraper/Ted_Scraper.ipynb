{
 "cells": [
  {
   "cell_type": "code",
   "execution_count": 1,
   "metadata": {},
   "outputs": [],
   "source": [
    "import urllib.request\n",
    "from lxml import html"
   ]
  },
  {
   "cell_type": "code",
   "execution_count": 2,
   "metadata": {},
   "outputs": [],
   "source": [
    "topic =\"artificial intelligence\"\n",
    "page_number =1\n",
    "per_page =20"
   ]
  },
  {
   "cell_type": "code",
   "execution_count": 5,
   "metadata": {},
   "outputs": [],
   "source": [
    "u = urllib.request.urlopen('https://www.ted.com/search?page={}&per_page={}&q={}'\n",
    "    .format(page_number, per_page, topic.replace(\" \",\"+\")))\n",
    "\n",
    "data = u.read()\n",
    "#data"
   ]
  },
  {
   "cell_type": "code",
   "execution_count": 6,
   "metadata": {},
   "outputs": [
    {
     "name": "stdout",
     "output_type": "stream",
     "text": [
      "Playlist: Artificial intelligence (10 talks)\n",
      "Dan Finkel: Can you solve the rogue AI riddle?\n",
      "Briana Brownell: How does artificial intelligence learn?\n",
      "Gil Weinberg: Can robots be creative?\n",
      "Marc Goodman | TED Speaker\n",
      "Peter Norvig: The 100,000-student classroom\n",
      "Pierre Barreau: How AI could compose a personalized soundtrack to your life\n",
      "Tim Leberecht: 4 ways to build a human company in the age of machines\n",
      "Kostas Karpouzis: Can machines read your emotions?\n",
      "Genevieve Bell: 6 big ethical questions about the future of AI \n",
      "Refik Anadol: Art in the age of machine intelligence\n",
      "Brian Christian: How to get better at video games, according to babies\n",
      "Yann LeCun: Deep learning, neural networks and the future of AI\n",
      "Jeff Dean: AI isn't as smart as you think -- but it could be\n",
      "Sylvain Duranton: How humans and AI can work together to create better businesses\n",
      "Max Tegmark: How to get empowered, not overpowered, by AI\n",
      "Jamila Gordon: How AI can help shatter barriers to equality\n",
      "Nick Bostrom: What happens when our computers get smarter than we are?\n",
      "Grady Booch: Don't fear superintelligent AI\n",
      "Julia Shaw: A memory scientist's advice on reporting harassment and discrimination\n"
     ]
    }
   ],
   "source": [
    "doc = html.document_fromstring(data)\n",
    "\n",
    "for title in doc.cssselect(\"article.search__result h3 a\"):\n",
    "    print(title.text_content())"
   ]
  },
  {
   "cell_type": "code",
   "execution_count": null,
   "metadata": {},
   "outputs": [],
   "source": []
  }
 ],
 "metadata": {
  "interpreter": {
   "hash": "52d60c26155453e416ee1d30d0393e858286d08106d7272813f514ddebc22ebc"
  },
  "kernelspec": {
   "display_name": "Python 3.8.8 64-bit ('env': venv)",
   "language": "python",
   "name": "python3"
  },
  "language_info": {
   "codemirror_mode": {
    "name": "ipython",
    "version": 3
   },
   "file_extension": ".py",
   "mimetype": "text/x-python",
   "name": "python",
   "nbconvert_exporter": "python",
   "pygments_lexer": "ipython3",
   "version": "3.8.8"
  },
  "orig_nbformat": 4
 },
 "nbformat": 4,
 "nbformat_minor": 2
}
